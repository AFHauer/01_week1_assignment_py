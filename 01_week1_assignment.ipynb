{
 "cells": [
  {
   "cell_type": "code",
   "execution_count": 9,
   "id": "30380d67",
   "metadata": {},
   "outputs": [],
   "source": [
    "from IPython.display import Markdown, display\n",
    "def printmd(string):\n",
    "    display(Markdown(string))"
   ]
  },
  {
   "cell_type": "code",
   "execution_count": 10,
   "id": "fd33ecb3",
   "metadata": {},
   "outputs": [
    {
     "name": "stdout",
     "output_type": "stream",
     "text": [
      "I am excited to refresh my current python skills and discover new skills to prepare me for Chandler's Text Mining Class this fall.\n",
      "\n",
      " I really want to grow my knowledge base by having a solid understanding of Python. As well as, having a solid foundation for future employment opportunities.\n"
     ]
    }
   ],
   "source": [
    "## Jupyter 101: Problem 2\n",
    "# Add in a print statement describing what I am most excited about for Python this summer\n",
    "\n",
    "print(\"I am excited to refresh my current python skills and discover new\" +\n",
    "      \" skills to prepare me for Chandler's Text Mining Class this fall.\")\n",
    "\n",
    "# Additional comment on why I am so excited\n",
    "\n",
    "print(\"\\n I really want to grow my knowledge base by having a solid understanding of Python.\" + \n",
    "     \" As well as, having a solid foundation for future employment opportunities.\")"
   ]
  },
  {
   "cell_type": "code",
   "execution_count": 13,
   "id": "b02b2173",
   "metadata": {},
   "outputs": [
    {
     "name": "stdout",
     "output_type": "stream",
     "text": [
      "To avoid uploading the Jupyter auto-save to my git repo I will use a .gitignore file.\n",
      "The .gitignore file lets github know what content to avoid uploading to your online repository.\n",
      "This is accomplished by creating the .gitignore, then adding .ipynb_checkpoints to the file text.\n",
      "\n",
      "\n"
     ]
    },
    {
     "data": {
      "text/markdown": [
       "**See .gitignore.**"
      ],
      "text/plain": [
       "<IPython.core.display.Markdown object>"
      ]
     },
     "metadata": {},
     "output_type": "display_data"
    }
   ],
   "source": [
    "## Bonus Question\n",
    "\n",
    "print(\"To avoid uploading the Jupyter auto-save to my git repo I will use a .gitignore file.\")\n",
    "print(\"The .gitignore file lets github know what content to avoid uploading to your online repository.\")\n",
    "print(\"This is accomplished by creating the .gitignore, then adding .ipynb_checkpoints to the file text.\")\n",
    "\n",
    "# Add some carige returns\n",
    "print(\"\\n\")\n",
    "\n",
    "# Print in bold\n",
    "printmd(\"**See .gitignore.**\")"
   ]
  },
  {
   "cell_type": "code",
   "execution_count": null,
   "id": "f8b53579",
   "metadata": {},
   "outputs": [],
   "source": []
  }
 ],
 "metadata": {
  "kernelspec": {
   "display_name": "Python 3",
   "language": "python",
   "name": "python3"
  },
  "language_info": {
   "codemirror_mode": {
    "name": "ipython",
    "version": 3
   },
   "file_extension": ".py",
   "mimetype": "text/x-python",
   "name": "python",
   "nbconvert_exporter": "python",
   "pygments_lexer": "ipython3",
   "version": "3.8.8"
  }
 },
 "nbformat": 4,
 "nbformat_minor": 5
}
